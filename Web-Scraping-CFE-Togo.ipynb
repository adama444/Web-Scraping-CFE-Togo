{
 "cells": [
  {
   "cell_type": "markdown",
   "id": "70e48610-a6fb-46ba-bf37-151359a33a7e",
   "metadata": {},
   "source": [
    "# Web scraping du site web cfetogo.tg"
   ]
  },
  {
   "cell_type": "markdown",
   "id": "19bdff87-cf64-4132-806f-7b36b7acc4c4",
   "metadata": {},
   "source": [
    "## 1 - Init the environment"
   ]
  },
  {
   "cell_type": "code",
   "execution_count": null,
   "id": "025f0590-149c-4616-85f3-130669f2431f",
   "metadata": {},
   "outputs": [],
   "source": []
  }
 ],
 "metadata": {
  "kernelspec": {
   "display_name": "Python 3 (ipykernel)",
   "language": "python",
   "name": "python3"
  },
  "language_info": {
   "codemirror_mode": {
    "name": "ipython",
    "version": 3
   },
   "file_extension": ".py",
   "mimetype": "text/x-python",
   "name": "python",
   "nbconvert_exporter": "python",
   "pygments_lexer": "ipython3",
   "version": "3.12.3"
  }
 },
 "nbformat": 4,
 "nbformat_minor": 5
}
